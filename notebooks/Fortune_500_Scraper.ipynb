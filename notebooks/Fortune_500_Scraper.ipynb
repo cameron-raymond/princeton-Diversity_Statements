{
 "cells": [
  {
   "cell_type": "markdown",
   "id": "3773a5d5-07bc-4f3f-ba02-8e15c2f28907",
   "metadata": {},
   "source": [
    "# K-12 Diversity Statements Scraper"
   ]
  },
  {
   "cell_type": "code",
   "execution_count": 1,
   "id": "b121c434-e429-4d1f-9d5c-612001cb25da",
   "metadata": {},
   "outputs": [],
   "source": [
    "# Data manipulation libraries\n",
    "from tqdm.notebook import tqdm\n",
    "import pandas as pd\n",
    "import numpy as np\n",
    "# Common webscraping libaries\n",
    "from bs4 import BeautifulSoup as bs\n",
    "import requests\n",
    "\n",
    "tqdm.pandas()"
   ]
  },
  {
   "cell_type": "markdown",
   "id": "5958d787-798c-47d2-b39a-45ab8354b5ff",
   "metadata": {},
   "source": [
    "### Get list of universities"
   ]
  },
  {
   "cell_type": "code",
   "execution_count": 2,
   "id": "66506f6d-c0a0-43d3-a6e9-ab63a6a57a83",
   "metadata": {
    "tags": []
   },
   "outputs": [
    {
     "name": "stdout",
     "output_type": "stream",
     "text": [
      "(2100, 3)\n",
      "(469, 3)\n",
      "(466, 3)\n"
     ]
    },
    {
     "data": {
      "text/html": [
       "<div>\n",
       "<style scoped>\n",
       "    .dataframe tbody tr th:only-of-type {\n",
       "        vertical-align: middle;\n",
       "    }\n",
       "\n",
       "    .dataframe tbody tr th {\n",
       "        vertical-align: top;\n",
       "    }\n",
       "\n",
       "    .dataframe thead th {\n",
       "        text-align: right;\n",
       "    }\n",
       "</style>\n",
       "<table border=\"1\" class=\"dataframe\">\n",
       "  <thead>\n",
       "    <tr style=\"text-align: right;\">\n",
       "      <th></th>\n",
       "      <th>Name</th>\n",
       "      <th>url_type</th>\n",
       "      <th>url</th>\n",
       "    </tr>\n",
       "  </thead>\n",
       "  <tbody>\n",
       "    <tr>\n",
       "      <th>0</th>\n",
       "      <td>Wal-Mart Stores</td>\n",
       "      <td>DIVERSITY PAGE</td>\n",
       "      <td>https://corporate.walmart.com/global-responsib...</td>\n",
       "    </tr>\n",
       "    <tr>\n",
       "      <th>1</th>\n",
       "      <td>Amazon.com</td>\n",
       "      <td>DIVERSITY PAGE</td>\n",
       "      <td>https://www.aboutamazon.com/workplace/diversit...</td>\n",
       "    </tr>\n",
       "    <tr>\n",
       "      <th>2</th>\n",
       "      <td>Apple</td>\n",
       "      <td>DIVERSITY PAGE</td>\n",
       "      <td>https://www.apple.com/diversity/</td>\n",
       "    </tr>\n",
       "    <tr>\n",
       "      <th>3</th>\n",
       "      <td>CVS Health</td>\n",
       "      <td>DIVERSITY PAGE</td>\n",
       "      <td>https://cvshealth.com/about/diversity</td>\n",
       "    </tr>\n",
       "    <tr>\n",
       "      <th>4</th>\n",
       "      <td>UnitedHealth Group</td>\n",
       "      <td>DIVERSITY PAGE</td>\n",
       "      <td>https://careers.unitedhealthgroup.com/culture/...</td>\n",
       "    </tr>\n",
       "    <tr>\n",
       "      <th>...</th>\n",
       "      <td>...</td>\n",
       "      <td>...</td>\n",
       "      <td>...</td>\n",
       "    </tr>\n",
       "    <tr>\n",
       "      <th>1249</th>\n",
       "      <td>Tenneco</td>\n",
       "      <td>Unnamed: 4</td>\n",
       "      <td>https://www.lb.com/responsibility/inclusion/ou...</td>\n",
       "    </tr>\n",
       "    <tr>\n",
       "      <th>1256</th>\n",
       "      <td>Principal Financial</td>\n",
       "      <td>Unnamed: 4</td>\n",
       "      <td>https://www.principal.com/about-us/corporate-c...</td>\n",
       "    </tr>\n",
       "    <tr>\n",
       "      <th>1393</th>\n",
       "      <td>Alleghany</td>\n",
       "      <td>Unnamed: 4</td>\n",
       "      <td>https://www.53.com/content/fifth-third/en/pers...</td>\n",
       "    </tr>\n",
       "    <tr>\n",
       "      <th>1687</th>\n",
       "      <td>U.S. Bancorp</td>\n",
       "      <td>Unnamed: 5</td>\n",
       "      <td>https://www.usfoods.com/careers/diversity/supp...</td>\n",
       "    </tr>\n",
       "    <tr>\n",
       "      <th>1781</th>\n",
       "      <td>Principal Financial</td>\n",
       "      <td>Unnamed: 5</td>\n",
       "      <td>https://www.principal.com/about-us/corporate-c...</td>\n",
       "    </tr>\n",
       "  </tbody>\n",
       "</table>\n",
       "<p>466 rows × 3 columns</p>\n",
       "</div>"
      ],
      "text/plain": [
       "                     Name        url_type  \\\n",
       "0         Wal-Mart Stores  DIVERSITY PAGE   \n",
       "1              Amazon.com  DIVERSITY PAGE   \n",
       "2                   Apple  DIVERSITY PAGE   \n",
       "3              CVS Health  DIVERSITY PAGE   \n",
       "4      UnitedHealth Group  DIVERSITY PAGE   \n",
       "...                   ...             ...   \n",
       "1249              Tenneco      Unnamed: 4   \n",
       "1256  Principal Financial      Unnamed: 4   \n",
       "1393            Alleghany      Unnamed: 4   \n",
       "1687         U.S. Bancorp      Unnamed: 5   \n",
       "1781  Principal Financial      Unnamed: 5   \n",
       "\n",
       "                                                    url  \n",
       "0     https://corporate.walmart.com/global-responsib...  \n",
       "1     https://www.aboutamazon.com/workplace/diversit...  \n",
       "2                      https://www.apple.com/diversity/  \n",
       "3                 https://cvshealth.com/about/diversity  \n",
       "4     https://careers.unitedhealthgroup.com/culture/...  \n",
       "...                                                 ...  \n",
       "1249  https://www.lb.com/responsibility/inclusion/ou...  \n",
       "1256  https://www.principal.com/about-us/corporate-c...  \n",
       "1393  https://www.53.com/content/fifth-third/en/pers...  \n",
       "1687  https://www.usfoods.com/careers/diversity/supp...  \n",
       "1781  https://www.principal.com/about-us/corporate-c...  \n",
       "\n",
       "[466 rows x 3 columns]"
      ]
     },
     "execution_count": 2,
     "metadata": {},
     "output_type": "execute_result"
    }
   ],
   "source": [
    "input_path = \"../data/input/Fortune500_Diversity.xlsx\"\n",
    "uni_list = pd.read_excel(input_path)\n",
    "uni_list = uni_list.melt(id_vars=['Name'], \n",
    "              value_vars=[x for x in uni_list.columns if \"Unnamed\" in x or \"DIVERSITY\" in x], \n",
    "              var_name='url_type', value_name='url')\n",
    "print(uni_list.shape)\n",
    "uni_list = uni_list.dropna(subset=[\"url\"])\n",
    "print(uni_list.shape)\n",
    "uni_list = uni_list.drop_duplicates(subset=\"url\")\n",
    "print(uni_list.shape)\n",
    "uni_list"
   ]
  },
  {
   "cell_type": "code",
   "execution_count": 3,
   "id": "7655fabe-c22f-4cfb-a9ba-684de1f48676",
   "metadata": {},
   "outputs": [
    {
     "data": {
      "application/vnd.jupyter.widget-view+json": {
       "model_id": "7488090209b347248ecede91069e7785",
       "version_major": 2,
       "version_minor": 0
      },
      "text/plain": [
       "  0%|          | 0/466 [00:00<?, ?it/s]"
      ]
     },
     "metadata": {},
     "output_type": "display_data"
    },
    {
     "name": "stdout",
     "output_type": "stream",
     "text": [
      "Energy Transfer Equity ('Connection aborted.', ConnectionResetError(54, 'Connection reset by peer'))\n",
      "WestRock HTTPSConnectionPool(host='www.westrock.com', port=443): Max retries exceeded with url: /en/company (Caused by SSLError(SSLCertVerificationError(1, '[SSL: CERTIFICATE_VERIFY_FAILED] certificate verify failed: unable to get local issuer certificate (_ssl.c:1123)')))\n",
      "L Brands HTTPSConnectionPool(host='www.lb.com', port=443): Max retries exceeded with url: /responsibility/inclusion/overview (Caused by SSLError(SSLCertVerificationError(1, '[SSL: CERTIFICATE_VERIFY_FAILED] certificate verify failed: unable to get local issuer certificate (_ssl.c:1123)')))\n",
      "Ball HTTPSConnectionPool(host='www.ball.com', port=443): Max retries exceeded with url: /na/about-ball/careers/diversity-inclusion (Caused by SSLError(SSLCertVerificationError(1, '[SSL: CERTIFICATE_VERIFY_FAILED] certificate verify failed: unable to get local issuer certificate (_ssl.c:1123)')))\n",
      "Textron HTTPSConnectionPool(host='www.textronsystems.com', port=443): Max retries exceeded with url: /our-company/diversity-inclusion (Caused by SSLError(SSLCertVerificationError(1, '[SSL: CERTIFICATE_VERIFY_FAILED] certificate verify failed: unable to get local issuer certificate (_ssl.c:1123)')))\n",
      "Blackstone Group HTTPSConnectionPool(host='www.blackstone.com', port=443): Max retries exceeded with url: /careers/diversity-inclusion/ (Caused by SSLError(SSLCertVerificationError(1, '[SSL: CERTIFICATE_VERIFY_FAILED] certificate verify failed: unable to get local issuer certificate (_ssl.c:1123)')))\n",
      "Arconic HTTPSConnectionPool(host='www.arconic.com', port=443): Max retries exceeded with url: /global/en/join-us/power-of-diversity-erg.asp (Caused by SSLError(SSLCertVerificationError(1, '[SSL: CERTIFICATE_VERIFY_FAILED] certificate verify failed: unable to get local issuer certificate (_ssl.c:1123)')))\n",
      "Textron HTTPSConnectionPool(host='www.textronsystems.com', port=443): Max retries exceeded with url: /our-company/corporate-responsibility (Caused by SSLError(SSLCertVerificationError(1, '[SSL: CERTIFICATE_VERIFY_FAILED] certificate verify failed: unable to get local issuer certificate (_ssl.c:1123)')))\n"
     ]
    }
   ],
   "source": [
    "from utils import scrape_webpage\n",
    "uni_list['text'] = uni_list.progress_apply(lambda x : scrape_webpage(x[\"url\"],\n",
    "                                                            x[\"Name\"],\n",
    "                                                            x[\"url_type\"],\n",
    "                                                            out_folder=\"fortune500_output\",\n",
    "                                                            save_images=False,\n",
    "                                                            v=False),axis=1)\n",
    "uni_list['failed_scrape'] = uni_list['text'].str.len() < 100\n",
    "uni_list = uni_list[['Name','url_type','url','failed_scrape','text']]"
   ]
  },
  {
   "cell_type": "code",
   "execution_count": 4,
   "id": "58e84457-0a1e-4b84-b706-b3f1fe108ab5",
   "metadata": {},
   "outputs": [],
   "source": [
    "import re\n",
    "# uni_list['text'] = uni_list['text'].map(lambda x : re.sub(r'[^ \\w+]', '', x))\n",
    "uni_list.to_csv(f\"../data/fortune500_output/fortune500_diversity_statements.csv\")"
   ]
  },
  {
   "cell_type": "code",
   "execution_count": null,
   "id": "c88fb66c-4b1d-4d91-903c-0710580605c7",
   "metadata": {},
   "outputs": [],
   "source": []
  }
 ],
 "metadata": {
  "kernelspec": {
   "display_name": "Python (Diversity Statements)",
   "language": "python",
   "name": "diversity_states"
  },
  "language_info": {
   "codemirror_mode": {
    "name": "ipython",
    "version": 3
   },
   "file_extension": ".py",
   "mimetype": "text/x-python",
   "name": "python",
   "nbconvert_exporter": "python",
   "pygments_lexer": "ipython3",
   "version": "3.9.4"
  }
 },
 "nbformat": 4,
 "nbformat_minor": 5
}
