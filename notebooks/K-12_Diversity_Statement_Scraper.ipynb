{
 "cells": [
  {
   "cell_type": "markdown",
   "id": "3773a5d5-07bc-4f3f-ba02-8e15c2f28907",
   "metadata": {},
   "source": [
    "# K-12 Diversity Statements Scraper"
   ]
  },
  {
   "cell_type": "code",
   "execution_count": 1,
   "id": "b121c434-e429-4d1f-9d5c-612001cb25da",
   "metadata": {},
   "outputs": [],
   "source": [
    "# Data manipulation libraries\n",
    "from tqdm.notebook import tqdm\n",
    "import pandas as pd\n",
    "import numpy as np\n",
    "# Common webscraping libaries\n",
    "from bs4 import BeautifulSoup as bs\n",
    "import requests\n",
    "\n",
    "tqdm.pandas()"
   ]
  },
  {
   "cell_type": "markdown",
   "id": "5958d787-798c-47d2-b39a-45ab8354b5ff",
   "metadata": {},
   "source": [
    "### Get list of universities"
   ]
  },
  {
   "cell_type": "code",
   "execution_count": 2,
   "id": "66506f6d-c0a0-43d3-a6e9-ab63a6a57a83",
   "metadata": {
    "tags": []
   },
   "outputs": [
    {
     "name": "stdout",
     "output_type": "stream",
     "text": [
      "(431, 3)\n",
      "(422, 3)\n"
     ]
    },
    {
     "data": {
      "text/html": [
       "<div>\n",
       "<style scoped>\n",
       "    .dataframe tbody tr th:only-of-type {\n",
       "        vertical-align: middle;\n",
       "    }\n",
       "\n",
       "    .dataframe tbody tr th {\n",
       "        vertical-align: top;\n",
       "    }\n",
       "\n",
       "    .dataframe thead th {\n",
       "        text-align: right;\n",
       "    }\n",
       "</style>\n",
       "<table border=\"1\" class=\"dataframe\">\n",
       "  <thead>\n",
       "    <tr style=\"text-align: right;\">\n",
       "      <th></th>\n",
       "      <th>School</th>\n",
       "      <th>url_type</th>\n",
       "      <th>url</th>\n",
       "    </tr>\n",
       "  </thead>\n",
       "  <tbody>\n",
       "    <tr>\n",
       "      <th>0</th>\n",
       "      <td>Phillips Academy</td>\n",
       "      <td>diversity page 1</td>\n",
       "      <td>https://www.andover.edu/equity-inclusion-justice</td>\n",
       "    </tr>\n",
       "    <tr>\n",
       "      <th>1</th>\n",
       "      <td>Harvard-Westlake School</td>\n",
       "      <td>diversity page 1</td>\n",
       "      <td>https://www.hw.com/about/Diversity-Equity-Incl...</td>\n",
       "    </tr>\n",
       "    <tr>\n",
       "      <th>2</th>\n",
       "      <td>Phillips Exeter Academy</td>\n",
       "      <td>diversity page 1</td>\n",
       "      <td>https://www.exeter.edu/community/inclusive-com...</td>\n",
       "    </tr>\n",
       "    <tr>\n",
       "      <th>3</th>\n",
       "      <td>Trinity School</td>\n",
       "      <td>diversity page 1</td>\n",
       "      <td>https://www.trinityschoolnyc.org/about/diversity</td>\n",
       "    </tr>\n",
       "    <tr>\n",
       "      <th>4</th>\n",
       "      <td>Choate Rosemary Hall</td>\n",
       "      <td>diversity page 1</td>\n",
       "      <td>https://www.choate.edu/about/equity-and-inclusion</td>\n",
       "    </tr>\n",
       "    <tr>\n",
       "      <th>...</th>\n",
       "      <td>...</td>\n",
       "      <td>...</td>\n",
       "      <td>...</td>\n",
       "    </tr>\n",
       "    <tr>\n",
       "      <th>1504</th>\n",
       "      <td>Cincinnati Country Day School</td>\n",
       "      <td>diversity page 2</td>\n",
       "      <td>https://www.countryday.net/about-ccds/welcome/...</td>\n",
       "    </tr>\n",
       "    <tr>\n",
       "      <th>1552</th>\n",
       "      <td>St. George's School</td>\n",
       "      <td>diversity page 2</td>\n",
       "      <td>https://www.stgeorges.edu/guiding-principles</td>\n",
       "    </tr>\n",
       "    <tr>\n",
       "      <th>1686</th>\n",
       "      <td>The Walker School</td>\n",
       "      <td>diversity page 2</td>\n",
       "      <td>https://www.thewalkerschool.org/News-Detail?pk...</td>\n",
       "    </tr>\n",
       "    <tr>\n",
       "      <th>1711</th>\n",
       "      <td>Convent of the Visitation School</td>\n",
       "      <td>diversity page 2</td>\n",
       "      <td>https://www.visitation.net/uploaded/photos/New...</td>\n",
       "    </tr>\n",
       "    <tr>\n",
       "      <th>1764</th>\n",
       "      <td>Foxcroft School</td>\n",
       "      <td>diversity page 2</td>\n",
       "      <td>https://www.foxcroft.org/discover/diversity-an...</td>\n",
       "    </tr>\n",
       "  </tbody>\n",
       "</table>\n",
       "<p>422 rows × 3 columns</p>\n",
       "</div>"
      ],
      "text/plain": [
       "                                School          url_type  \\\n",
       "0                     Phillips Academy  diversity page 1   \n",
       "1              Harvard-Westlake School  diversity page 1   \n",
       "2              Phillips Exeter Academy  diversity page 1   \n",
       "3                       Trinity School  diversity page 1   \n",
       "4                 Choate Rosemary Hall  diversity page 1   \n",
       "...                                ...               ...   \n",
       "1504     Cincinnati Country Day School  diversity page 2   \n",
       "1552               St. George's School  diversity page 2   \n",
       "1686                 The Walker School  diversity page 2   \n",
       "1711  Convent of the Visitation School  diversity page 2   \n",
       "1764                   Foxcroft School  diversity page 2   \n",
       "\n",
       "                                                    url  \n",
       "0      https://www.andover.edu/equity-inclusion-justice  \n",
       "1     https://www.hw.com/about/Diversity-Equity-Incl...  \n",
       "2     https://www.exeter.edu/community/inclusive-com...  \n",
       "3      https://www.trinityschoolnyc.org/about/diversity  \n",
       "4     https://www.choate.edu/about/equity-and-inclusion  \n",
       "...                                                 ...  \n",
       "1504  https://www.countryday.net/about-ccds/welcome/...  \n",
       "1552       https://www.stgeorges.edu/guiding-principles  \n",
       "1686  https://www.thewalkerschool.org/News-Detail?pk...  \n",
       "1711  https://www.visitation.net/uploaded/photos/New...  \n",
       "1764  https://www.foxcroft.org/discover/diversity-an...  \n",
       "\n",
       "[422 rows x 3 columns]"
      ]
     },
     "execution_count": 2,
     "metadata": {},
     "output_type": "execute_result"
    }
   ],
   "source": [
    "input_path = \"../data/input/Private high schools.xlsx\"\n",
    "uni_list = pd.read_excel(input_path)\n",
    "uni_list = uni_list.melt(id_vars=['School'], \n",
    "              value_vars=[x for x in uni_list.columns if \"diversity\" in x], \n",
    "              var_name='url_type', value_name='url')\n",
    "uni_list = uni_list.dropna(subset=[\"url\"])\n",
    "print(uni_list.shape)\n",
    "uni_list = uni_list.drop_duplicates(subset=\"url\")\n",
    "print(uni_list.shape)\n",
    "uni_list"
   ]
  },
  {
   "cell_type": "code",
   "execution_count": 3,
   "id": "7655fabe-c22f-4cfb-a9ba-684de1f48676",
   "metadata": {},
   "outputs": [
    {
     "data": {
      "application/vnd.jupyter.widget-view+json": {
       "model_id": "de8f64bbc5f4452fa2af98bbcb51eafa",
       "version_major": 2,
       "version_minor": 0
      },
      "text/plain": [
       "  0%|          | 0/422 [00:00<?, ?it/s]"
      ]
     },
     "metadata": {},
     "output_type": "display_data"
    }
   ],
   "source": [
    "from utils import scrape_webpage\n",
    "uni_list['text'] = uni_list.progress_apply(lambda x : scrape_webpage(x[\"url\"],\n",
    "                                                            x[\"School\"],\n",
    "                                                            x[\"url_type\"],\n",
    "                                                            out_folder=\"k-12_output\",\n",
    "                                                            save_images=False,\n",
    "                                                            v=False),axis=1)\n",
    "uni_list['failed_scrape'] = uni_list['text'].str.len() < 100\n",
    "uni_list[['School','url_type','url','failed_scrape','text']]\n",
    "uni_list.to_csv(f\"../data/k-12_output/pilot_websites.csv\")"
   ]
  },
  {
   "cell_type": "code",
   "execution_count": null,
   "id": "58e84457-0a1e-4b84-b706-b3f1fe108ab5",
   "metadata": {},
   "outputs": [],
   "source": []
  },
  {
   "cell_type": "code",
   "execution_count": null,
   "id": "c88fb66c-4b1d-4d91-903c-0710580605c7",
   "metadata": {},
   "outputs": [],
   "source": []
  }
 ],
 "metadata": {
  "kernelspec": {
   "display_name": "Python (Diversity Statements)",
   "language": "python",
   "name": "diversity_states"
  },
  "language_info": {
   "codemirror_mode": {
    "name": "ipython",
    "version": 3
   },
   "file_extension": ".py",
   "mimetype": "text/x-python",
   "name": "python",
   "nbconvert_exporter": "python",
   "pygments_lexer": "ipython3",
   "version": "3.9.4"
  }
 },
 "nbformat": 4,
 "nbformat_minor": 5
}
